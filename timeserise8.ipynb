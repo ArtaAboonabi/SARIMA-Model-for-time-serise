{
 "cells": [
  {
   "cell_type": "code",
   "execution_count": null,
   "id": "7e99954e-8d92-47ec-9584-7ac71ae98b9d",
   "metadata": {},
   "outputs": [],
   "source": [
    "import pandas as pd\n",
    "import numpy as np\n",
    "from statsmodels.graphics.tsaplots import plot_acf, plot_pacf\n",
    "from statsmodels.tsa.stattools import adfuller, acf, pacf\n",
    "from statsmodels.tsa.arima.model import ARIMA\n",
    "import matplotlib.pyplot as plt\n",
    "from statsmodels.tsa.statespace.sarimax import SARIMAX\n",
    "from sklearn.model_selection import TimeSeriesSplit\n",
    "from sklearn.metrics import mean_squared_error\n",
    "import numpy as np\n",
    "import pandas as pd"
   ]
  },
  {
   "cell_type": "code",
   "execution_count": null,
   "id": "423d7d54-303e-49d5-9a43-6a465413d27b",
   "metadata": {},
   "outputs": [],
   "source": [
    "df= pd.read_csv('G:/python_time_serise/1test.csv')\n",
    "df.head()"
   ]
  },
  {
   "cell_type": "code",
   "execution_count": null,
   "id": "886c9bf8-af34-4707-a58d-8344d6610f50",
   "metadata": {},
   "outputs": [],
   "source": [
    "df['Date'] = pd.to_datetime(df[['year', 'month', 'day']])\n",
    "df.head()"
   ]
  },
  {
   "cell_type": "code",
   "execution_count": null,
   "id": "417e9752-b7c0-40fe-80a9-11374a743f5e",
   "metadata": {},
   "outputs": [],
   "source": [
    "earliest_date = df['Date'].min()\n",
    "latest_date = df['Date'].max()\n",
    "\n",
    "print(f\"Earliest date: {earliest_date}\")\n",
    "print(f\"Latest date: {latest_date}\")"
   ]
  },
  {
   "cell_type": "code",
   "execution_count": null,
   "id": "6126cdd6-fe59-46a8-90a1-c12aaab2a071",
   "metadata": {},
   "outputs": [],
   "source": [
    "num_rows, num_cols = df.shape\n",
    "print(f\"Number of rows: {num_rows}\")\n",
    "print(f\"Number of columns: {num_cols}\")"
   ]
  },
  {
   "cell_type": "code",
   "execution_count": null,
   "id": "671f51a5-098f-4527-86d3-356cf51ed0c4",
   "metadata": {},
   "outputs": [],
   "source": [
    "def run_adf_test(series, name):\n",
    "    result = adfuller(series.dropna())\n",
    "    print(f\"ADF Test Results for {name}:\")\n",
    "    print(f\"ADF Statistic: {result[0]}\")\n",
    "    print(f\"p-value: {result[1]}\")\n",
    "    print(\"Critical Values:\")\n",
    "    for key, value in result[4].items():\n",
    "        print(f\"\\t{key}: {value}\")\n",
    "    print(\"\\n\")\n",
    "\n",
    "###ADF Test Results for A2 \n",
    "run_adf_test(df['A2'], 'A2')\n"
   ]
  },
  {
   "cell_type": "markdown",
   "id": "cd9e1764-87aa-41b7-a852-22fcc0a1e2bf",
   "metadata": {},
   "source": [
    "# SARIMA"
   ]
  },
  {
   "cell_type": "code",
   "execution_count": null,
   "id": "92c24869-14e8-4e59-a20f-93180d8e5ca3",
   "metadata": {},
   "outputs": [],
   "source": [
    "import pandas as pd\n",
    "import numpy as np\n",
    "import matplotlib.pyplot as plt\n",
    "from statsmodels.tsa.statespace.sarimax import SARIMAX\n",
    "from statsmodels.tsa.stattools import adfuller\n",
    "from pmdarima import auto_arima"
   ]
  },
  {
   "cell_type": "code",
   "execution_count": null,
   "id": "cc3bb6ed-4713-42e7-9f6e-92ad33cb9070",
   "metadata": {},
   "outputs": [],
   "source": [
    "df['A2'].plot(figsize=(12, 6))\n",
    "plt.title('Time Series Data')\n",
    "plt.show()"
   ]
  },
  {
   "cell_type": "code",
   "execution_count": null,
   "id": "e038ace6-71a3-4ecd-8a74-25046c4ad88a",
   "metadata": {},
   "outputs": [],
   "source": [
    "def adf_test(series, title=''):\n",
    "    \"\"\"\n",
    "    Pass in a time series and an optional title, returns an ADF report\n",
    "    \"\"\"\n",
    "    print(f'Augmented Dickey-Fuller Test: {title}')\n",
    "    result = adfuller(series.dropna(), autolag='AIC')\n",
    "    labels = ['ADF Test Statistic', 'p-value', '# Lags Used', 'Number of Observations Used']\n",
    "    out = pd.Series(result[0:4], index=labels)\n",
    "    for key, val in result[4].items():\n",
    "        out[f'Critical Value ({key})'] = val\n",
    "    print(out.to_string())\n",
    "    if result[1] <= 0.05:\n",
    "        print(\"Strong evidence against the null hypothesis\")\n",
    "        print(\"Reject the null hypothesis\")\n",
    "        print(\"Data has no unit root and is stationary\")\n",
    "    else:\n",
    "        print(\"Weak evidence against the null hypothesis\")\n",
    "        print(\"Fail to reject the null hypothesis\")\n",
    "        print(\"Data has a unit root and is non-stationary\")\n",
    "\n",
    "for column in ['A2']:\n",
    "    adf_test(df[column], title=f'{column}')\n"
   ]
  },
  {
   "cell_type": "code",
   "execution_count": null,
   "id": "21223a54-54a5-41d4-a8d8-04ad35dbd6fc",
   "metadata": {},
   "outputs": [],
   "source": [
    "df_diff = df.diff().dropna()"
   ]
  },
  {
   "cell_type": "code",
   "execution_count": null,
   "id": "4182c5bd-6891-49ca-8709-967f2b554cc7",
   "metadata": {},
   "outputs": [],
   "source": [
    "from statsmodels.stats.diagnostic import acorr_ljungbox\n",
    "\n",
    "ljung_box_test = acorr_ljungbox(df['A2'], lags=[12], return_df=True)\n",
    "print(ljung_box_test)"
   ]
  },
  {
   "cell_type": "code",
   "execution_count": null,
   "id": "5ecaabf9-1d23-4856-ba0b-5f7ed3e0aea8",
   "metadata": {},
   "outputs": [],
   "source": [
    "def find_best_sarima(series, seasonal_period=12):\n",
    "    model = auto_arima(series, start_p=0, start_q=0, max_p=5, max_q=5,\n",
    "                       start_P=0, max_P=2, start_Q=0, max_Q=2, m=seasonal_period,\n",
    "                       seasonal=True, d=1, D=1, trace=True,\n",
    "                       error_action='ignore', suppress_warnings=True, stepwise=True)\n",
    "    return model.order, model.seasonal_order\n",
    "\n",
    "df.set_index('Date', inplace=True)\n",
    "\n",
    "for col in ['A2']:\n",
    "    best_order, best_seasonal_order = find_best_sarima(df[col])\n",
    "    print(f\"Best (p,d,q) for {col}: {best_order}\")\n",
    "    print(f\"Best seasonal (P,D,Q,s) for {col}: {best_seasonal_order}\")\n"
   ]
  },
  {
   "cell_type": "code",
   "execution_count": null,
   "id": "08411ff1-81c2-41f9-8ce9-a4dc3eab8e1c",
   "metadata": {},
   "outputs": [],
   "source": [
    "# Example parameters (p, d, q) x (P, D, Q, s)\n",
    "model = SARIMAX(df['A2'], order=(1, 1, 0), seasonal_order=(2, 1, 1, 12))\n",
    "results = model.fit()\n",
    "print(results.summary())\n"
   ]
  },
  {
   "cell_type": "code",
   "execution_count": null,
   "id": "d62d089d-39ae-4c9a-8062-8bbb7351cc2a",
   "metadata": {},
   "outputs": [],
   "source": [
    "tscv = TimeSeriesSplit(n_splits=5)\n",
    "mse_scores = []\n",
    "\n",
    "for train_index, test_index in tscv.split(df['A2']):\n",
    "    train, test = df['A2'].iloc[train_index], df['A2'].iloc[test_index]\n",
    "    model = SARIMAX(train, order=best_order, seasonal_order=best_seasonal_order)\n",
    "    model_fit = model.fit(disp=False)\n",
    "    forecast = model_fit.forecast(steps=len(test))\n",
    "    mse = mean_squared_error(test, forecast)\n",
    "    mse_scores.append(mse)\n",
    "\n",
    "print(\"MSE scores:\", mse_scores)\n",
    "print(\"Average MSE:\", np.mean(mse_scores))"
   ]
  },
  {
   "cell_type": "code",
   "execution_count": null,
   "id": "04c450ab-8671-4a32-8f15-6496fe8ef198",
   "metadata": {},
   "outputs": [],
   "source": [
    "import pandas as pd\n",
    "import numpy as np\n",
    "from statsmodels.tsa.statespace.sarimax import SARIMAX\n",
    "from pmdarima import auto_arima\n",
    "\n",
    "# Fit the SARIMA model\n",
    "model = SARIMAX(df['A2'].dropna(), order=best_order, seasonal_order=best_seasonal_order)\n",
    "model_fit = model.fit(disp=False)\n",
    "\n",
    "\n",
    "forecast_steps = 12  \n",
    "forecast_90 = model_fit.get_forecast(steps=forecast_steps)\n",
    "forecast_95 = model_fit.get_forecast(steps=forecast_steps)\n",
    "forecast_98 = model_fit.get_forecast(steps=forecast_steps)\n",
    "\n",
    "ci_90 = forecast_90.conf_int(alpha=0.10)\n",
    "ci_95 = forecast_95.conf_int(alpha=0.05)\n",
    "ci_98 = forecast_98.conf_int(alpha=0.02)\n",
    "\n",
    "last_observed_date = df.index[-1]\n",
    "\n",
    "# Create forecast dates\n",
    "forecast_dates = pd.date_range(start=last_observed_date + pd.Timedelta(days=1), periods=forecast_steps, freq='D')\n",
    "\n",
    "confidence_levels = ['90%', '95%', '98%']\n",
    "forecast_values = [\n",
    "    forecast_90.predicted_mean.values,\n",
    "    forecast_95.predicted_mean.values,\n",
    "    forecast_98.predicted_mean.values\n",
    "]\n",
    "\n",
    "# Create the table data\n",
    "table_data = {\n",
    "    'Date': [last_observed_date.strftime('%Y-%m-%d')] + [date.strftime('%Y-%m-%d') for date in forecast_dates for _ in confidence_levels],\n",
    "    'Confidence Level': ['Last Observed'] + confidence_levels * forecast_steps,\n",
    "    'Value': [df['A2'].iloc[-1]] + forecast_values[0].tolist() + forecast_values[1].tolist() + forecast_values[2].tolist()\n",
    "}\n",
    "\n",
    "table = pd.DataFrame(table_data)\n",
    "print(table)\n"
   ]
  },
  {
   "cell_type": "code",
   "execution_count": null,
   "id": "82e5ea40-67d0-45ab-932e-6d9654e708f0",
   "metadata": {},
   "outputs": [],
   "source": [
    "plt.figure(figsize=(12, 6))\n",
    "plt.plot(df.index, df['A2'], label='Observed')\n",
    "plt.plot(forecast_dates, forecast_90.predicted_mean, label='Forecast (90% CI)')\n",
    "plt.fill_between(forecast_dates, ci_90.iloc[:, 0], ci_90.iloc[:, 1], color='k', alpha=0.1)\n",
    "plt.plot(forecast_dates, forecast_95.predicted_mean, label='Forecast (95% CI)', linestyle='--')\n",
    "plt.fill_between(forecast_dates, ci_95.iloc[:, 0], ci_95.iloc[:, 1], color='g', alpha=0.1)\n",
    "plt.plot(forecast_dates, forecast_98.predicted_mean, label='Forecast (98% CI)', linestyle=':')\n",
    "plt.fill_between(forecast_dates, ci_98.iloc[:, 0], ci_98.iloc[:, 1], color='r', alpha=0.1)\n",
    "plt.xlabel('Date')\n",
    "plt.ylabel('A2 Values')\n",
    "plt.title('SARIMA Forecast with Confidence Intervals')\n",
    "plt.legend()\n",
    "plt.show()"
   ]
  },
  {
   "cell_type": "code",
   "execution_count": null,
   "id": "01585646-f63d-488f-9f56-6d99c6c7590d",
   "metadata": {},
   "outputs": [],
   "source": [
    "plt.figure(figsize=(12, 6))\n",
    "plt.plot(df.index, df['A2'], label='Observed')\n",
    "plt.plot(forecast_dates, forecast_90.predicted_mean, label='Forecast (90% CI)')\n",
    "plt.fill_between(forecast_dates, ci_90.iloc[:, 0], ci_90.iloc[:, 1], color='k', alpha=0.1)\n",
    "plt.xlabel('Date')\n",
    "plt.ylabel('A2 Values')\n",
    "plt.title('SARIMA Forecast with 90% Confidence Interval')\n",
    "plt.legend()\n",
    "plt.show()\n",
    "\n",
    "plt.figure(figsize=(12, 6))\n",
    "plt.plot(df.index, df['A2'], label='Observed')\n",
    "plt.plot(forecast_dates, forecast_95.predicted_mean, label='Forecast (95% CI)', linestyle='--')\n",
    "plt.fill_between(forecast_dates, ci_95.iloc[:, 0], ci_95.iloc[:, 1], color='g', alpha=0.1)\n",
    "plt.xlabel('Date')\n",
    "plt.ylabel('A2 Values')\n",
    "plt.title('SARIMA Forecast with 95% Confidence Interval')\n",
    "plt.legend()\n",
    "plt.show()\n",
    "\n",
    "plt.figure(figsize=(12, 6))\n",
    "plt.plot(df.index, df['A2'], label='Observed')\n",
    "plt.plot(forecast_dates, forecast_98.predicted_mean, label='Forecast (98% CI)', linestyle=':')\n",
    "plt.fill_between(forecast_dates, ci_98.iloc[:, 0], ci_98.iloc[:, 1], color='r', alpha=0.1)\n",
    "plt.xlabel('Date')\n",
    "plt.ylabel('A2 Values')\n",
    "plt.title('SARIMA Forecast with 98% Confidence Interval')\n",
    "plt.legend()\n",
    "plt.show()"
   ]
  },
  {
   "cell_type": "code",
   "execution_count": null,
   "id": "c78091be-35c4-4fce-9fec-1021be3f092a",
   "metadata": {},
   "outputs": [],
   "source": [
    "import pandas as pd\n",
    "import numpy as np\n",
    "import matplotlib.pyplot as plt\n",
    "from statsmodels.tsa.statespace.sarimax import SARIMAX\n",
    "from pmdarima import auto_arima\n",
    "\n",
    "forecast_steps = 30  # Number of steps to forecast\n",
    "forecast_98 = model_fit.get_forecast(steps=forecast_steps)\n",
    "\n",
    "ci_98 = forecast_98.conf_int(alpha=0.02)\n",
    "\n",
    "last_observed_date = df.index[-1]\n",
    "\n",
    "forecast_dates = pd.date_range(start=last_observed_date + pd.Timedelta(days=1), periods=forecast_steps, freq='D')\n",
    "\n",
    "table_data = {\n",
    "    'Date': forecast_dates.strftime('%Y-%m-%d'),\n",
    "    'Forecasted Value': forecast_98.predicted_mean.values,\n",
    "    'Lower 98% CI': ci_98.iloc[:, 0],\n",
    "    'Upper 98% CI': ci_98.iloc[:, 1]\n",
    "}\n",
    "\n",
    "table = pd.DataFrame(table_data)\n",
    "print(table)\n"
   ]
  },
  {
   "cell_type": "code",
   "execution_count": null,
   "id": "6873ae61-51e4-4138-8eaa-2c313c00ae4d",
   "metadata": {},
   "outputs": [],
   "source": [
    "plt.figure(figsize=(12, 6))\n",
    "plt.plot(df.index, df['A2'], label='Observed', color='blue')\n",
    "plt.plot(forecast_dates, forecast_98.predicted_mean, label='Forecast (98% CI)', color='orange')\n",
    "plt.fill_between(forecast_dates, ci_98.iloc[:, 0], ci_98.iloc[:, 1], color='r', alpha=0.1)\n",
    "plt.xlabel('Date')\n",
    "plt.ylabel('A2 Values')\n",
    "plt.title('SARIMA Forecast with 98% Confidence Interval')\n",
    "plt.legend()\n",
    "plt.show()"
   ]
  },
  {
   "cell_type": "code",
   "execution_count": null,
   "id": "c5d6584d-1cb1-4595-9a2d-7521a5c81335",
   "metadata": {},
   "outputs": [],
   "source": []
  }
 ],
 "metadata": {
  "kernelspec": {
   "display_name": "Python 3 (ipykernel)",
   "language": "python",
   "name": "python3"
  },
  "language_info": {
   "codemirror_mode": {
    "name": "ipython",
    "version": 3
   },
   "file_extension": ".py",
   "mimetype": "text/x-python",
   "name": "python",
   "nbconvert_exporter": "python",
   "pygments_lexer": "ipython3",
   "version": "3.11.7"
  }
 },
 "nbformat": 4,
 "nbformat_minor": 5
}
